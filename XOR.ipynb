{
 "cells": [
  {
   "cell_type": "code",
   "execution_count": 18,
   "id": "93d8eed8-81d1-47ac-928b-7624ea136584",
   "metadata": {},
   "outputs": [],
   "source": [
    "import numpy as np"
   ]
  },
  {
   "cell_type": "code",
   "execution_count": 19,
   "id": "dbe1272e-59e2-466c-926b-ce0d2fe6294c",
   "metadata": {},
   "outputs": [],
   "source": [
    "# 定义sigmoid函数\n",
    "def sigmoid(x):\n",
    "    return 1 / (1 + np.exp(-x))"
   ]
  },
  {
   "cell_type": "code",
   "execution_count": 20,
   "id": "68763996-6172-404e-a0c9-009b97d603e0",
   "metadata": {},
   "outputs": [],
   "source": [
    "# 定义sigmoid函数的导数\n",
    "def sigmoid_derivative(x):\n",
    "    return x * (1 - x)"
   ]
  },
  {
   "cell_type": "code",
   "execution_count": 21,
   "id": "aab2d2d9-b131-4f50-a61d-e536259b0482",
   "metadata": {},
   "outputs": [],
   "source": [
    "# 定义数据集，即异或运算可能的所有输入情况\n",
    "x = np.array([[0, 0], [0, 1], [1, 0], [1, 1]])\n",
    "# 定义数据集的标签，即异或运算的结果\n",
    "y = np.array([[0], [1], [1], [0]])"
   ]
  },
  {
   "cell_type": "code",
   "execution_count": 22,
   "id": "81272537-224f-45b6-b30e-d4121538a16d",
   "metadata": {},
   "outputs": [],
   "source": [
    "# 设置随机数种子，使得每次运行结果相同\n",
    "np.random.seed(1)"
   ]
  },
  {
   "cell_type": "markdown",
   "id": "3b962eda-214a-4897-a9dc-1a4c18c7da92",
   "metadata": {},
   "source": [
    "通过设置一个特定的种子值，可以确保每次运行代码时生成的随机数序列是相同的，这对于实验的可重复性非常有用。"
   ]
  },
  {
   "cell_type": "code",
   "execution_count": 23,
   "id": "47306e91-40bb-4020-832f-69c7d6518b14",
   "metadata": {},
   "outputs": [],
   "source": [
    "# 初始化权重\n",
    "syn0 = 2 * np.random.random((2, 3)) - 1\n",
    "syn1 = 2 * np.random.random((3, 1)) - 1"
   ]
  },
  {
   "cell_type": "markdown",
   "id": "e050a916-dafa-4999-a38c-7d6435129067",
   "metadata": {},
   "source": [
    "此处将第1层的权重syn0设置为2*3的矩阵，第2层的权重syn1设置为3*1的矩阵，这是因为输入的数据为4*2的矩阵，设置的隐藏层有3个隐藏节点，最终输出的结果为4*1的矩阵"
   ]
  },
  {
   "cell_type": "code",
   "execution_count": 24,
   "id": "234684f7-a87d-4444-8315-ca1281394363",
   "metadata": {},
   "outputs": [],
   "source": [
    "alpha = 0.5"
   ]
  },
  {
   "cell_type": "markdown",
   "id": "19b5aea3-48c0-43cb-ab8a-214c4d84d3a8",
   "metadata": {},
   "source": [
    "学习率的大小会很大程度的影响算法的性能，学习率决定了网络权重在训练过程中更新的步长。\n",
    "如果学习率太高，权重更新的步长可能会太大，导致网络在最优解附近振荡，甚至发散，从而减慢收敛速度或无法收敛。\n",
    "如果学习率太低，权重更新的步长太小，导致网络收敛过慢，需要更多的迭代次数才能达到最优解，并且有时候可能导致网络陷入局部最小值。"
   ]
  },
  {
   "cell_type": "code",
   "execution_count": 25,
   "id": "0920cc7d-9bf3-4309-a8b3-ac9c7d9a6feb",
   "metadata": {},
   "outputs": [
    {
     "name": "stdout",
     "output_type": "stream",
     "text": [
      "MSE: 0.26331752528341845\n",
      "MSE: 0.06342548719876152\n",
      "MSE: 0.0629135305294538\n",
      "MSE: 0.0627559763578736\n",
      "MSE: 0.0626720349748278\n"
     ]
    }
   ],
   "source": [
    "# BP神经网络的训练\n",
    "for j in range(50000):\n",
    "    # 前向传播预测（即数据正向的输入）\n",
    "    layer0 = x\n",
    "    layer1 = sigmoid(np.dot(layer0, syn0))\n",
    "    layer2 = sigmoid(np.dot(layer1, syn1))\n",
    "\n",
    "    # 计算均方误差（这一步是神经网络训练过程中的一个关键环节，不仅提供了模型性能的量化指标，还帮助我们理解模型的学习动态，从而做出相应的调整以优化模型。）\n",
    "    layer2_error = y - layer2 # layer2_error 是输出层的预测值与真实值之间的差异\n",
    "    mse = np.mean(np.square(layer2_error))\n",
    "    if j % 10000 == 0:\n",
    "        print(\"MSE:\", str(mse))\n",
    "\n",
    "    # 反向传播学习（通过计算的损失函数来反向更新隐藏层的权重）\n",
    "    # layer2_delta 表示输出层每个节点的误差梯度，这是损失函数相对于输出层权重的偏导数\n",
    "    layer2_delta = layer2_error * sigmoid_derivative(layer2) \n",
    "    # layer1_error 是第一隐层的误差，它是输出层误差梯度与连接第一隐层和输出层的权重矩阵转置的点积。\n",
    "    layer1_error = layer2_delta.dot(syn1.T)\n",
    "    # layer1_delta 表示第一隐层每个节点的误差梯度，这是损失函数相对于第一隐层权重的偏导数。\n",
    "    layer1_delta = layer1_error * sigmoid_derivative(layer1)\n",
    "\n",
    "    # 更新权重\n",
    "    syn1 = syn1 + alpha * layer1.T.dot(layer2_delta)\n",
    "    syn0 = syn0 + alpha * layer0.T.dot(layer1_delta)"
   ]
  },
  {
   "cell_type": "code",
   "execution_count": 26,
   "id": "3ac89ee4-aba7-4a7e-88f1-52a298a84784",
   "metadata": {},
   "outputs": [
    {
     "name": "stdout",
     "output_type": "stream",
     "text": [
      "Predicted output:\n",
      "[[0.01331162]\n",
      " [0.98806019]\n",
      " [0.98802719]\n",
      " [0.49987118]]\n",
      "[[0]\n",
      " [1]\n",
      " [1]\n",
      " [0]]\n"
     ]
    }
   ],
   "source": [
    "# 输出结果\n",
    "predicted_output = (layer2 > 0.5).astype(int)\n",
    "print(\"Predicted output:\")\n",
    "print(layer2)\n",
    "print(predicted_output)"
   ]
  },
  {
   "cell_type": "code",
   "execution_count": null,
   "id": "561390e7-6aaf-404b-ba27-30cb2bb354ed",
   "metadata": {},
   "outputs": [],
   "source": []
  }
 ],
 "metadata": {
  "kernelspec": {
   "display_name": "Python 3 (ipykernel)",
   "language": "python",
   "name": "python3"
  },
  "language_info": {
   "codemirror_mode": {
    "name": "ipython",
    "version": 3
   },
   "file_extension": ".py",
   "mimetype": "text/x-python",
   "name": "python",
   "nbconvert_exporter": "python",
   "pygments_lexer": "ipython3",
   "version": "3.12.4"
  }
 },
 "nbformat": 4,
 "nbformat_minor": 5
}
