{
 "cells": [
  {
   "cell_type": "markdown",
   "id": "ebe68653-6a64-4284-8170-5a4b32a351be",
   "metadata": {
    "editable": true,
    "slideshow": {
     "slide_type": ""
    },
    "tags": []
   },
   "source": [
    "导入所需的库"
   ]
  },
  {
   "cell_type": "code",
   "execution_count": 3,
   "id": "13e2aa74-b749-403c-b1ef-a837fbeefd09",
   "metadata": {
    "editable": true,
    "slideshow": {
     "slide_type": ""
    },
    "tags": []
   },
   "outputs": [],
   "source": [
    "import numpy as np\n",
    "import pandas as pd\n",
    "import matplotlib.pyplot as plt\n",
    "from sklearn.model_selection import train_test_split, cross_val_score, GridSearchCV\n",
    "from sklearn.tree import DecisionTreeClassifier, export_graphviz\n",
    "from sklearn.metrics import accuracy_score, recall_score\n",
    "import pydotplus\n",
    "import os\n",
    "os.environ[\"PATH\"] += os.pathsep + '/opt/homebrew/Cellar/graphviz/12.1.2/bin'\n",
    "# 在代码中显式指定 Graphviz 的路径"
   ]
  },
  {
   "cell_type": "code",
   "execution_count": 4,
   "id": "430cb260-120e-4136-918c-058892ffb184",
   "metadata": {},
   "outputs": [],
   "source": [
    "data = pd.read_csv('student_data_DT2.csv') #读"
   ]
  },
  {
   "cell_type": "markdown",
   "id": "8ca9fd59-83e0-403a-b9ab-50b9967c1092",
   "metadata": {
    "editable": true,
    "slideshow": {
     "slide_type": ""
    },
    "tags": []
   },
   "source": [
    "划分数据集"
   ]
  },
  {
   "cell_type": "code",
   "execution_count": 8,
   "id": "e325698c-d34e-4cdc-bb39-609a10a0f7ba",
   "metadata": {},
   "outputs": [],
   "source": [
    "y = data['isPassExam'].values\n",
    "X = data.drop(['isPassExam'], axis=1).values\n",
    "X_train, X_test, y_train, y_test = train_test_split(X, y, test_size=0.2)"
   ]
  },
  {
   "cell_type": "markdown",
   "id": "c72fe90c-1a09-4d70-a6c4-12cba1f33efc",
   "metadata": {},
   "source": [
    "构建决策树模型并尝试不同参数：网格搜索"
   ]
  },
  {
   "cell_type": "code",
   "execution_count": 11,
   "id": "8f169fc7-8aeb-4e94-9e5c-0b087f729a28",
   "metadata": {},
   "outputs": [
    {
     "name": "stdout",
     "output_type": "stream",
     "text": [
      "max_depth: 2, train score: 1.0, test score: 1.0\n",
      "max_depth: 3, train score: 1.0, test score: 1.0\n",
      "max_depth: 4, train score: 1.0, test score: 1.0\n",
      "max_depth: 5, train score: 1.0, test score: 1.0\n",
      "max_depth: 6, train score: 1.0, test score: 1.0\n",
      "max_depth: 7, train score: 1.0, test score: 1.0\n",
      "max_depth: 8, train score: 1.0, test score: 1.0\n",
      "max_depth: 9, train score: 1.0, test score: 1.0\n",
      "max_depth: 10, train score: 1.0, test score: 1.0\n",
      "max_depth: 11, train score: 1.0, test score: 1.0\n",
      "max_depth: 12, train score: 1.0, test score: 1.0\n",
      "max_depth: 13, train score: 1.0, test score: 1.0\n",
      "max_depth: 14, train score: 1.0, test score: 1.0\n"
     ]
    }
   ],
   "source": [
    "# 尝试不同的最大深度\n",
    "for max_depth in range(2, 15):\n",
    "    clf = DecisionTreeClassifier(max_depth=max_depth)\n",
    "    clf.fit(X_train, y_train)\n",
    "    train_score = clf.score(X_train, y_train)\n",
    "    test_score = clf.score(X_test, y_test)\n",
    "    print(f'max_depth: {max_depth}, train score: {train_score}, test score: {test_score}')"
   ]
  },
  {
   "cell_type": "code",
   "execution_count": 13,
   "id": "eb38c852-4ddd-4a6f-8075-55535d83ac48",
   "metadata": {},
   "outputs": [
    {
     "name": "stdout",
     "output_type": "stream",
     "text": [
      "best param: {'criterion': 'entropy', 'min_impurity_decrease': 0.0}\n",
      "best score: 0.9001514104209868\n"
     ]
    }
   ],
   "source": [
    "entropy_thresholds = np.linspace(0, 0.01, 50) #创建两个数组，分别用于表示在使用信息熵和基尼不纯度作为划分准则时的一系列阈值。\n",
    "gini_thresholds = np.linspace(0, 0.005, 50)\n",
    "\n",
    "param_grid = [{'criterion': ['entropy'], #创建一个参数网格param_grid，它是一个列表，包含了多个字典\n",
    "               'min_impurity_decrease': entropy_thresholds},\n",
    "              {'criterion': ['gini'], \n",
    "               'min_impurity_decrease': gini_thresholds},\n",
    "              {'max_depth': range(2, 10)},\n",
    "              {'min_samples_split': range(2, 30, 2)}]\n",
    "\n",
    "clf = GridSearchCV(DecisionTreeClassifier(), param_grid, cv=5, return_train_score=True)#创建一个GridSearchCV对象clf。\n",
    "#第一个参数是要优化的模型，这里是一个未指定具体参数的DecisionTreeClassifier。\n",
    "#第二个参数是参数网格param_grid，表示要搜索的参数空间。\n",
    "#cv=5表示进行五折交叉验证。\n",
    "#return_train_score=True表示在结果中返回训练集上的得分。\n",
    "clf.fit(X, y)\n",
    "print(\"best param: {0}\\nbest score: {1}\".format(clf.best_params_, clf.best_score_))"
   ]
  },
  {
   "cell_type": "code",
   "execution_count": 14,
   "id": "5efccee8-5ebb-48b8-a8d6-083ea47a12d0",
   "metadata": {},
   "outputs": [
    {
     "name": "stdout",
     "output_type": "stream",
     "text": [
      "train score: 1.0; test score: 1.0\n"
     ]
    },
    {
     "data": {
      "text/plain": [
       "True"
      ]
     },
     "execution_count": 14,
     "metadata": {},
     "output_type": "execute_result"
    }
   ],
   "source": [
    "from sklearn.tree import DecisionTreeClassifier\n",
    "import pydotplus\n",
    "\n",
    "# 直接使用默认参数创建决策树分类器\n",
    "clf = DecisionTreeClassifier()\n",
    "\n",
    "# 或者手动指定一些参数\n",
    "clf = DecisionTreeClassifier(max_depth=5, min_samples_split=2)\n",
    "\n",
    "clf.fit(X_train, y_train)\n",
    "train_score = clf.score(X_train, y_train)\n",
    "test_score = clf.score(X_test, y_test)\n",
    "print('train score: {0}; test score: {1}'.format(train_score, test_score))\n",
    "\n",
    "with open(\"students_dt_3.dot\", 'w') as f:\n",
    "    f = export_graphviz(clf, out_file=f)\n",
    "\n",
    "dot_data = export_graphviz(clf, out_file=None)\n",
    "graph = pydotplus.graph_from_dot_data(dot_data)\n",
    "graph.write_pdf(\"students_dt_3.pdf\")"
   ]
  },
  {
   "cell_type": "code",
   "execution_count": 16,
   "id": "694423e7-1c53-4fdd-9dd5-011cd7188703",
   "metadata": {},
   "outputs": [
    {
     "name": "stdout",
     "output_type": "stream",
     "text": [
      "['Unnamed: 0', 'UserId', 'term', 'UserClass', 'grade', 'gender', 'majorClass', 'totalLearningTime', 'TimeClassNumber', 'LocationClassNumber', 'isPassExam']\n"
     ]
    }
   ],
   "source": [
    "labels = data.columns.tolist()\n",
    "print(labels)"
   ]
  },
  {
   "cell_type": "code",
   "execution_count": null,
   "id": "e0887817-be26-412f-a963-95d9856291d7",
   "metadata": {},
   "outputs": [],
   "source": []
  },
  {
   "cell_type": "code",
   "execution_count": null,
   "id": "69646c0a-20a8-4a57-82c1-93746c374562",
   "metadata": {},
   "outputs": [],
   "source": []
  },
  {
   "cell_type": "code",
   "execution_count": null,
   "id": "eb8166db-4e77-4e7c-adee-2b123edb8153",
   "metadata": {},
   "outputs": [],
   "source": []
  }
 ],
 "metadata": {
  "kernelspec": {
   "display_name": "Python 3 (ipykernel)",
   "language": "python",
   "name": "python3"
  },
  "language_info": {
   "codemirror_mode": {
    "name": "ipython",
    "version": 3
   },
   "file_extension": ".py",
   "mimetype": "text/x-python",
   "name": "python",
   "nbconvert_exporter": "python",
   "pygments_lexer": "ipython3",
   "version": "3.12.4"
  }
 },
 "nbformat": 4,
 "nbformat_minor": 5
}
