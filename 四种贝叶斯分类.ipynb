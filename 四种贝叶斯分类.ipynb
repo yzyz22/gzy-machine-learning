{
 "cells": [
  {
   "cell_type": "markdown",
   "id": "4af2e57a-0862-489b-8503-ed617b60c5d2",
   "metadata": {},
   "source": [
    "比较四种贝叶斯分类器在文档分类上的表现"
   ]
  },
  {
   "cell_type": "markdown",
   "id": "4b490fba-0f70-4252-aade-33d8d5746658",
   "metadata": {},
   "source": [
    "MultinomialNB 是文本分类的首选分类器，适用于离散特征。\n",
    "GaussianNB 假设特征符合正态分布，适用于连续特征，因此需要将稀疏矩阵转为密集矩阵。\n",
    "ComplementNB 是 MultinomialNB 的变体，专为不平衡数据设计。\n",
    "BernoulliNB 假设特征是二元的（0/1），适合特定文本分类任务。"
   ]
  },
  {
   "cell_type": "code",
   "execution_count": 48,
   "id": "7add613d-b4e5-420d-8e8d-94221c817684",
   "metadata": {},
   "outputs": [],
   "source": [
    "# 导入所需的库\n",
    "from sklearn.feature_extraction.text import TfidfVectorizer\n",
    "from sklearn.naive_bayes import MultinomialNB\n",
    "from sklearn import metrics\n",
    "import jieba\n",
    "import os\n"
   ]
  },
  {
   "cell_type": "code",
   "execution_count": 50,
   "id": "c97347a5-d8cc-46d8-b9e6-075b3d0cf0bc",
   "metadata": {},
   "outputs": [],
   "source": [
    "# 停用词表地址\n",
    "stop_words_path = 'text classification/stop/stopword.txt'\n"
   ]
  },
  {
   "cell_type": "code",
   "execution_count": 51,
   "id": "72393ba8-1bb4-4942-94ee-7296893fab7b",
   "metadata": {},
   "outputs": [],
   "source": [
    "# 训练集和测试集的根目录\n",
    "train_base_path = 'text classification/train/'\n",
    "test_base_path = 'text classification/test/'\n"
   ]
  },
  {
   "cell_type": "code",
   "execution_count": 54,
   "id": "f718810e-d484-4d7f-bee1-7c3fa662d9ce",
   "metadata": {},
   "outputs": [],
   "source": [
    "# 文档类别\n",
    "train_labels = ['体育', '女性', '文学', '校园']\n",
    "test_labels = ['体育', '女性', '文学', '校园']\n"
   ]
  },
  {
   "cell_type": "code",
   "execution_count": 55,
   "id": "08809aed-ac75-4e22-b359-2b66782d75fc",
   "metadata": {},
   "outputs": [],
   "source": [
    "# 定义函数以读取文件夹中各个类别下的文档数据\n",
    "def get_data(base_path, labels):\n",
    "    contents = []\n",
    "    for label in labels:\n",
    "        files = {fileName for fileName in os.listdir(base_path + label)}\n",
    "        try:\n",
    "            for fileName in files:\n",
    "                file = open(base_path + label + '/' + fileName, encoding='gb18030')\n",
    "                word = jieba.cut(file.read())\n",
    "                contents.append(\" \".join(word))\n",
    "        except Exception as e:\n",
    "            print(fileName + ' 文件读取失败: ', e)\n",
    "    return contents"
   ]
  },
  {
   "cell_type": "code",
   "execution_count": 56,
   "id": "490cd06e-d207-4da8-9f95-e2b99a21e261",
   "metadata": {},
   "outputs": [],
   "source": [
    "# 1. 对文档进行分词\n",
    "# 获取训练集与测试集\n",
    "train_contents = get_data(train_base_path, train_labels)\n",
    "test_contents = get_data(test_base_path, test_labels)\n"
   ]
  },
  {
   "cell_type": "code",
   "execution_count": 57,
   "id": "acc247df-8791-4999-851d-033555d755bb",
   "metadata": {},
   "outputs": [],
   "source": [
    "# 2. 加载停用词表\n",
    "stop_words = [line.strip() for line in open(stop_words_path, encoding='utf-8-sig').readlines()]\n"
   ]
  },
  {
   "cell_type": "code",
   "execution_count": 58,
   "id": "7c4c2ecc-d597-414e-b31f-595cb25c52db",
   "metadata": {},
   "outputs": [],
   "source": [
    "# 3. 计算单词权重\n",
    "tf = TfidfVectorizer(stop_words=stop_words, max_df=0.5)\n",
    "train_features = tf.fit_transform(train_contents)"
   ]
  },
  {
   "cell_type": "markdown",
   "id": "40843df7-f60e-4f83-9c87-6c446bfffcd6",
   "metadata": {},
   "source": [
    "生成多项式朴素贝叶斯分类器"
   ]
  },
  {
   "cell_type": "code",
   "execution_count": 60,
   "id": "6a4014b7-f5f4-4596-9680-8fe7e5af6dd8",
   "metadata": {},
   "outputs": [],
   "source": [
    "train_labels_full = ['体育'] * 1337 + ['女性'] * 954 + ['文学'] * 766 + ['校园'] * 249\n",
    "clf = MultinomialNB(alpha=0.001).fit(train_features, train_labels_full)\n",
    "\n"
   ]
  },
  {
   "cell_type": "markdown",
   "id": "84d06926-338a-43a4-a795-6eabcef32d4a",
   "metadata": {},
   "source": [
    "用生成的分类器做预测"
   ]
  },
  {
   "cell_type": "code",
   "execution_count": 64,
   "id": "1fdc5860-5b38-4d10-acd6-afbe26482cf4",
   "metadata": {},
   "outputs": [
    {
     "name": "stderr",
     "output_type": "stream",
     "text": [
      "/opt/anaconda3/lib/python3.12/site-packages/sklearn/feature_extraction/text.py:408: UserWarning: Your stop_words may be inconsistent with your preprocessing. Tokenizing the stop words generated tokens ['ain', 'aren', 'couldn', 'didn', 'doesn', 'don', 'hadn', 'hasn', 'haven', 'isn', 'll', 'mon', 'shouldn', 've', 'wasn', 'weren', 'won', 'wouldn'] not in stop_words.\n",
      "  warnings.warn(\n"
     ]
    }
   ],
   "source": [
    "test_tf = TfidfVectorizer(stop_words=stop_words, max_df=0.5, vocabulary=tf.vocabulary_)\n",
    "test_features = test_tf.fit_transform(test_contents)\n",
    "predicted_labels = clf.predict(test_features)"
   ]
  },
  {
   "cell_type": "code",
   "execution_count": 70,
   "id": "db4fed6f-673a-4a3b-bcb2-8038f3c295e0",
   "metadata": {},
   "outputs": [
    {
     "name": "stdout",
     "output_type": "stream",
     "text": [
      "准确率: 0.91\n"
     ]
    }
   ],
   "source": [
    "test_labels_full = ['体育'] * 115 + ['女性'] * 38 + ['文学'] * 31 + ['校园'] * 16\n",
    "print('准确率:', metrics.accuracy_score(test_labels_full, predicted_labels))"
   ]
  },
  {
   "cell_type": "code",
   "execution_count": 72,
   "id": "8f0b06ff-36d2-4c12-96a7-ec95318515ef",
   "metadata": {},
   "outputs": [
    {
     "name": "stdout",
     "output_type": "stream",
     "text": [
      "MultinomialNB 的准确率: 0.9100\n",
      "GaussianNB 的准确率: 0.8750\n",
      "ComplementNB 的准确率: 0.9100\n",
      "BernoulliNB 的准确率: 0.9050\n",
      "\n",
      "分类器准确率比较结果:\n",
      "MultinomialNB: 0.9100\n",
      "GaussianNB: 0.8750\n",
      "ComplementNB: 0.9100\n",
      "BernoulliNB: 0.9050\n"
     ]
    }
   ],
   "source": [
    "from sklearn.naive_bayes import GaussianNB, ComplementNB, BernoulliNB\n",
    "from sklearn.metrics import accuracy_score\n",
    "\n",
    "# 将稀疏矩阵转为密集矩阵以适配 GaussianNB\n",
    "train_features_dense = train_features.toarray()\n",
    "test_features_dense = test_features.toarray()\n",
    "\n",
    "# 定义分类器及其名称\n",
    "classifiers = {\n",
    "    \"MultinomialNB\": MultinomialNB(alpha=0.001),\n",
    "    \"GaussianNB\": GaussianNB(),\n",
    "    \"ComplementNB\": ComplementNB(alpha=0.001),\n",
    "    \"BernoulliNB\": BernoulliNB(alpha=0.001)\n",
    "}\n",
    "\n",
    "# 比较分类器性能\n",
    "results = {}\n",
    "for name, clf in classifiers.items():\n",
    "    # 针对 GaussianNB 使用密集特征，其余使用稀疏矩阵\n",
    "    if name == \"GaussianNB\":\n",
    "        clf.fit(train_features_dense, train_labels_full)\n",
    "        predicted_labels = clf.predict(test_features_dense)\n",
    "    else:\n",
    "        clf.fit(train_features, train_labels_full)\n",
    "        predicted_labels = clf.predict(test_features)\n",
    "    \n",
    "    # 计算准确率\n",
    "    accuracy = accuracy_score(test_labels_full, predicted_labels)\n",
    "    results[name] = accuracy\n",
    "    print(f\"{name} 的准确率: {accuracy:.4f}\")\n",
    "\n",
    "# 输出结果\n",
    "print(\"\\n分类器准确率比较结果:\")\n",
    "for name, accuracy in results.items():\n",
    "    print(f\"{name}: {accuracy:.4f}\")"
   ]
  },
  {
   "cell_type": "code",
   "execution_count": null,
   "id": "59f41eaa-3df8-4123-be00-8ef6b603f636",
   "metadata": {},
   "outputs": [],
   "source": []
  }
 ],
 "metadata": {
  "kernelspec": {
   "display_name": "Python 3 (ipykernel)",
   "language": "python",
   "name": "python3"
  },
  "language_info": {
   "codemirror_mode": {
    "name": "ipython",
    "version": 3
   },
   "file_extension": ".py",
   "mimetype": "text/x-python",
   "name": "python",
   "nbconvert_exporter": "python",
   "pygments_lexer": "ipython3",
   "version": "3.12.4"
  }
 },
 "nbformat": 4,
 "nbformat_minor": 5
}
