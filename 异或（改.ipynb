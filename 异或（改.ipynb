{
 "cells": [
  {
   "cell_type": "code",
   "execution_count": 10,
   "id": "f2ba5050-9e3b-4ae3-bc3e-eefa7e7dee25",
   "metadata": {},
   "outputs": [],
   "source": [
    "import numpy as np  #导入库"
   ]
  },
  {
   "cell_type": "markdown",
   "id": "a31e63a3-e51d-47ee-b0ba-4c348c997bc2",
   "metadata": {},
   "source": [
    "更改激励函数为relu函数"
   ]
  },
  {
   "cell_type": "code",
   "execution_count": 13,
   "id": "66d0de99-b219-49b6-af41-be4acac3a2d1",
   "metadata": {},
   "outputs": [],
   "source": [
    "def relu(x):\n",
    "    return np.maximum(0, x)\n",
    "    \n",
    "def relu_derivative(x):\n",
    "    return np.where(x > 0, 1, 0) # 定义 ReLU 函数的导数"
   ]
  },
  {
   "cell_type": "code",
   "execution_count": 15,
   "id": "1e2744c6-e116-49e1-aaa6-85bf07a84988",
   "metadata": {},
   "outputs": [],
   "source": [
    "# 定义数据集，即异或运算可能的所有输入情况\n",
    "x = np.array([[0, 0], [0, 1], [1, 0], [1, 1]])\n",
    "\n",
    "# 使用独热编码对标签进行转换\n",
    "y = np.array([[1, 0], [0, 1], [0, 1], [1, 0]])\n",
    "\n",
    "# 设置随机数种子，使得每次运行结果相同\n",
    "np.random.seed(1)"
   ]
  },
  {
   "cell_type": "code",
   "execution_count": 17,
   "id": "4ffe34b0-f5f7-40a7-9a9c-ac1db614430b",
   "metadata": {},
   "outputs": [],
   "source": [
    "# 初始化权重\n",
    "syn0 = 2 * np.random.random((2, 3)) - 1\n",
    "syn1 = 2 * np.random.random((3, 2)) - 1"
   ]
  },
  {
   "cell_type": "code",
   "execution_count": 19,
   "id": "10e447b7-b640-47d7-9d42-390a45c1ace7",
   "metadata": {},
   "outputs": [],
   "source": [
    "alpha=0.5  "
   ]
  },
  {
   "cell_type": "markdown",
   "id": "de8de1c1-eebe-4dc6-8e95-7f37606eba83",
   "metadata": {},
   "source": [
    "学习率的大小会很大程度的影响算法的性能，学习率决定了网络权重在训练过程中更新的步长。 如果学习率太高，权重更新的步长可能会太大，导致网络在最优解附近振荡，甚至发散，从而减慢收敛速度或无法收敛。 如果学习率太低，权重更新的步长太小，导致网络收敛过慢，需要更多的迭代次数才能达到最优解，并且有时候可能导致网络陷入局部最小值"
   ]
  },
  {
   "cell_type": "code",
   "execution_count": 22,
   "id": "c0c528dc-00d8-4582-bdd9-d1e93f02ac9f",
   "metadata": {},
   "outputs": [
    {
     "name": "stdout",
     "output_type": "stream",
     "text": [
      "MSE: 0.49159400563617095\n",
      "MSE: 0.375\n",
      "MSE: 0.375\n",
      "MSE: 0.375\n",
      "MSE: 0.375\n"
     ]
    }
   ],
   "source": [
    "# BP 神经网络的训练\n",
    "for j in range(50000):\n",
    "    # 前向传播预测（即数据正向的输入）\n",
    "    layer0 = x\n",
    "    layer1 = relu(np.dot(layer0, syn0))\n",
    "    layer2 = relu(np.dot(layer1, syn1))\n",
    "\n",
    "    # 计算均方误差\n",
    "    layer2_error = y - layer2\n",
    "    mse = np.mean(np.square(layer2_error))\n",
    "    if j % 10000 == 0:\n",
    "        print(\"MSE:\", str(mse))  #mse为均方误差\n",
    "\n",
    "    # 反向传播学习\n",
    "    layer2_delta = layer2_error * relu_derivative(layer2)\n",
    "    layer1_error = layer2_delta.dot(syn1.T)\n",
    "    layer1_delta = layer1_error * relu_derivative(layer1)\n",
    "\n",
    "    # 更新权重\n",
    "    syn1 = syn1 + alpha * layer1.T.dot(layer2_delta)\n",
    "    syn0 = syn0 + alpha * layer0.T.dot(layer1_delta)"
   ]
  },
  {
   "cell_type": "code",
   "execution_count": 23,
   "id": "586ed46c-7da0-4438-9687-d783d5c6b2ee",
   "metadata": {},
   "outputs": [
    {
     "name": "stdout",
     "output_type": "stream",
     "text": [
      "Predicted output:\n",
      "[[0. 0.]\n",
      " [0. 0.]\n",
      " [0. 1.]\n",
      " [0. 0.]]\n",
      "[0 0 1 0]\n"
     ]
    }
   ],
   "source": [
    "# 输出结果\n",
    "predicted_output = np.argmax(layer2, axis=1)\n",
    "print(\"Predicted output:\")\n",
    "print(layer2)\n",
    "print(predicted_output)"
   ]
  },
  {
   "cell_type": "code",
   "execution_count": null,
   "id": "271f338d-7e52-431a-9bc8-8e39c48182cc",
   "metadata": {},
   "outputs": [],
   "source": []
  },
  {
   "cell_type": "code",
   "execution_count": null,
   "id": "fc77cd94-3cb0-4fc8-acc9-315d8d1af9d0",
   "metadata": {},
   "outputs": [],
   "source": []
  }
 ],
 "metadata": {
  "kernelspec": {
   "display_name": "Python 3 (ipykernel)",
   "language": "python",
   "name": "python3"
  },
  "language_info": {
   "codemirror_mode": {
    "name": "ipython",
    "version": 3
   },
   "file_extension": ".py",
   "mimetype": "text/x-python",
   "name": "python",
   "nbconvert_exporter": "python",
   "pygments_lexer": "ipython3",
   "version": "3.12.4"
  }
 },
 "nbformat": 4,
 "nbformat_minor": 5
}
